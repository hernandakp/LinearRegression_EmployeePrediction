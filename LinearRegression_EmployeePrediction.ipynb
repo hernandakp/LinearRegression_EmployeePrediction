{
  "cells": [
    {
      "cell_type": "markdown",
      "id": "77916db9",
      "metadata": {
        "id": "77916db9"
      },
      "source": [
        "## **Linear Regression: Employee Prediction**"
      ]
    },
    {
      "cell_type": "markdown",
      "id": "2334093d",
      "metadata": {
        "id": "2334093d"
      },
      "source": [
        "Analisis Employee Churn adalah sebuah studi terhadap tingkat 'churn' dari karyawan perusahaan. Employee (karyawan) dibilang 'Churn' ketika karyawan tersebut pindah kerja ke kantor lain (berhenti bekerja di kantor asal). Secara garis besar, perusahaan-perusahaan ingin bisa 'memprediksi' employee mana yang akan 'churn', supaya bisa melakukan antisipasi agar employee tersebut tidak jadi 'churn'. Mengapa? Karena...lebih besar ongkos yang dikeluarkan untuk mencari & merekrut karyawan baru, melatih mereka dari 0 lagi, ketimbang mempertahankan employee yang sudah ada. Oleh sebab itu, perusahaan-perusahaan ingin mempelajari faktor-faktor apa saja yang dapat dilihat untuk mengantisipasi 'churn' dari seorang employee. \n",
        "\n",
        "\n",
        "Setiap baris merepresentasi data dari seorang employee. \n",
        "\n",
        "Penjelasan setiap kolom:\n",
        "- `office_distance_from_house`: jarak (dalam meter) kantor ke rumah karyawan\n",
        "- `bonus_salary_percentage`: persentase bonus gaji yang diterima karyawan dalam 6 bulan terakhir\n",
        "- `job_satisfaction`: tingkat kepuasan kerja karyawan\n",
        "- `education_level`: tingkat pendidikan karyawan\n",
        "- `overtime_hour`: lama waktu lembur rata-rata (dalam jam)\n",
        "- `company_latitude`: koordinat garis lintang kantor pusat perusahaan\n",
        "- `company_longitude`: koordinat garis bujur kantor pusat perusahaan\n",
        "- `gender`: apabila 0, berarti perempuan, apabila 1, berarti laki-laki\n",
        "- `churn`: apabila 1, berarti Churn (si karyawan pindah), apabila 0, berarti tidak Churn (karyawan tidak pindah)"
      ]
    },
    {
      "cell_type": "markdown",
      "id": "009ca426",
      "metadata": {},
      "source": [
        "### **Importing library**"
      ]
    },
    {
      "cell_type": "code",
      "execution_count": 36,
      "id": "5f5bf5d6",
      "metadata": {},
      "outputs": [],
      "source": [
        "import pandas as pd\n",
        "import matplotlib.pyplot as plt\n",
        "import seaborn as sns\n",
        "from sklearn.linear_model import LinearRegression\n",
        "from sklearn.model_selection import train_test_split"
      ]
    },
    {
      "cell_type": "markdown",
      "id": "4e92caba",
      "metadata": {
        "id": "4e92caba"
      },
      "source": [
        "### **About data**"
      ]
    },
    {
      "cell_type": "code",
      "execution_count": 37,
      "id": "05655ea7",
      "metadata": {},
      "outputs": [
        {
          "data": {
            "text/html": [
              "<div>\n",
              "<style scoped>\n",
              "    .dataframe tbody tr th:only-of-type {\n",
              "        vertical-align: middle;\n",
              "    }\n",
              "\n",
              "    .dataframe tbody tr th {\n",
              "        vertical-align: top;\n",
              "    }\n",
              "\n",
              "    .dataframe thead th {\n",
              "        text-align: right;\n",
              "    }\n",
              "</style>\n",
              "<table border=\"1\" class=\"dataframe\">\n",
              "  <thead>\n",
              "    <tr style=\"text-align: right;\">\n",
              "      <th></th>\n",
              "      <th>office_distance_from_house</th>\n",
              "      <th>bonus_salary_percentage</th>\n",
              "      <th>job_satisfaction</th>\n",
              "      <th>education_level</th>\n",
              "      <th>overtime_hour</th>\n",
              "      <th>gender</th>\n",
              "      <th>churn</th>\n",
              "    </tr>\n",
              "  </thead>\n",
              "  <tbody>\n",
              "    <tr>\n",
              "      <th>0</th>\n",
              "      <td>8511.0</td>\n",
              "      <td>42.51</td>\n",
              "      <td>1.0</td>\n",
              "      <td>bachelor/diploma</td>\n",
              "      <td>3.416556</td>\n",
              "      <td>0</td>\n",
              "      <td>0</td>\n",
              "    </tr>\n",
              "    <tr>\n",
              "      <th>1</th>\n",
              "      <td>10090.0</td>\n",
              "      <td>57.48</td>\n",
              "      <td>2.0</td>\n",
              "      <td>bachelor/diploma</td>\n",
              "      <td>2.897149</td>\n",
              "      <td>0</td>\n",
              "      <td>0</td>\n",
              "    </tr>\n",
              "    <tr>\n",
              "      <th>2</th>\n",
              "      <td>18652.0</td>\n",
              "      <td>41.22</td>\n",
              "      <td>2.0</td>\n",
              "      <td>bachelor/diploma</td>\n",
              "      <td>3.180264</td>\n",
              "      <td>1</td>\n",
              "      <td>1</td>\n",
              "    </tr>\n",
              "    <tr>\n",
              "      <th>3</th>\n",
              "      <td>13392.0</td>\n",
              "      <td>63.57</td>\n",
              "      <td>3.0</td>\n",
              "      <td>bachelor/diploma</td>\n",
              "      <td>3.429648</td>\n",
              "      <td>0</td>\n",
              "      <td>0</td>\n",
              "    </tr>\n",
              "    <tr>\n",
              "      <th>4</th>\n",
              "      <td>13356.0</td>\n",
              "      <td>46.16</td>\n",
              "      <td>2.0</td>\n",
              "      <td>bachelor/diploma</td>\n",
              "      <td>3.812226</td>\n",
              "      <td>1</td>\n",
              "      <td>1</td>\n",
              "    </tr>\n",
              "    <tr>\n",
              "      <th>...</th>\n",
              "      <td>...</td>\n",
              "      <td>...</td>\n",
              "      <td>...</td>\n",
              "      <td>...</td>\n",
              "      <td>...</td>\n",
              "      <td>...</td>\n",
              "      <td>...</td>\n",
              "    </tr>\n",
              "    <tr>\n",
              "      <th>1028</th>\n",
              "      <td>12972.0</td>\n",
              "      <td>73.90</td>\n",
              "      <td>2.0</td>\n",
              "      <td>bachelor/diploma</td>\n",
              "      <td>2.661765</td>\n",
              "      <td>0</td>\n",
              "      <td>0</td>\n",
              "    </tr>\n",
              "    <tr>\n",
              "      <th>1029</th>\n",
              "      <td>7881.0</td>\n",
              "      <td>37.09</td>\n",
              "      <td>2.0</td>\n",
              "      <td>masters degree</td>\n",
              "      <td>2.518952</td>\n",
              "      <td>0</td>\n",
              "      <td>1</td>\n",
              "    </tr>\n",
              "    <tr>\n",
              "      <th>1030</th>\n",
              "      <td>12003.0</td>\n",
              "      <td>66.86</td>\n",
              "      <td>1.0</td>\n",
              "      <td>masters degree</td>\n",
              "      <td>4.882591</td>\n",
              "      <td>0</td>\n",
              "      <td>0</td>\n",
              "    </tr>\n",
              "    <tr>\n",
              "      <th>1031</th>\n",
              "      <td>9843.0</td>\n",
              "      <td>52.03</td>\n",
              "      <td>2.0</td>\n",
              "      <td>masters degree</td>\n",
              "      <td>3.829853</td>\n",
              "      <td>0</td>\n",
              "      <td>0</td>\n",
              "    </tr>\n",
              "    <tr>\n",
              "      <th>1032</th>\n",
              "      <td>16330.0</td>\n",
              "      <td>54.31</td>\n",
              "      <td>3.0</td>\n",
              "      <td>bachelor/diploma</td>\n",
              "      <td>4.102752</td>\n",
              "      <td>1</td>\n",
              "      <td>0</td>\n",
              "    </tr>\n",
              "  </tbody>\n",
              "</table>\n",
              "<p>1033 rows × 7 columns</p>\n",
              "</div>"
            ],
            "text/plain": [
              "      office_distance_from_house  bonus_salary_percentage  job_satisfaction  \\\n",
              "0                         8511.0                    42.51               1.0   \n",
              "1                        10090.0                    57.48               2.0   \n",
              "2                        18652.0                    41.22               2.0   \n",
              "3                        13392.0                    63.57               3.0   \n",
              "4                        13356.0                    46.16               2.0   \n",
              "...                          ...                      ...               ...   \n",
              "1028                     12972.0                    73.90               2.0   \n",
              "1029                      7881.0                    37.09               2.0   \n",
              "1030                     12003.0                    66.86               1.0   \n",
              "1031                      9843.0                    52.03               2.0   \n",
              "1032                     16330.0                    54.31               3.0   \n",
              "\n",
              "       education_level  overtime_hour  gender  churn  \n",
              "0     bachelor/diploma       3.416556       0      0  \n",
              "1     bachelor/diploma       2.897149       0      0  \n",
              "2     bachelor/diploma       3.180264       1      1  \n",
              "3     bachelor/diploma       3.429648       0      0  \n",
              "4     bachelor/diploma       3.812226       1      1  \n",
              "...                ...            ...     ...    ...  \n",
              "1028  bachelor/diploma       2.661765       0      0  \n",
              "1029    masters degree       2.518952       0      1  \n",
              "1030    masters degree       4.882591       0      0  \n",
              "1031    masters degree       3.829853       0      0  \n",
              "1032  bachelor/diploma       4.102752       1      0  \n",
              "\n",
              "[1033 rows x 7 columns]"
            ]
          },
          "execution_count": 37,
          "metadata": {},
          "output_type": "execute_result"
        }
      ],
      "source": [
        "# Independent variabel(x) adalah office_distance_from_house, bonus_salary_percentage, job_satisfaction, education_level, overtime_hour, gender\n",
        "# Dependent variabel(y) adalah churn\n",
        "df = pd.read_csv('dataset.csv', usecols=['office_distance_from_house', 'bonus_salary_percentage', 'job_satisfaction', 'education_level', 'overtime_hour', 'gender', 'churn'])\n",
        "df"
      ]
    },
    {
      "cell_type": "code",
      "execution_count": 38,
      "id": "b58899d4",
      "metadata": {},
      "outputs": [
        {
          "name": "stdout",
          "output_type": "stream",
          "text": [
            "<class 'pandas.core.frame.DataFrame'>\n",
            "RangeIndex: 1033 entries, 0 to 1032\n",
            "Data columns (total 7 columns):\n",
            " #   Column                      Non-Null Count  Dtype  \n",
            "---  ------                      --------------  -----  \n",
            " 0   office_distance_from_house  1033 non-null   float64\n",
            " 1   bonus_salary_percentage     1033 non-null   float64\n",
            " 2   job_satisfaction            1033 non-null   float64\n",
            " 3   education_level             1033 non-null   object \n",
            " 4   overtime_hour               1033 non-null   float64\n",
            " 5   gender                      1033 non-null   int64  \n",
            " 6   churn                       1033 non-null   int64  \n",
            "dtypes: float64(4), int64(2), object(1)\n",
            "memory usage: 56.6+ KB\n"
          ]
        }
      ],
      "source": [
        "df.info()"
      ]
    },
    {
      "cell_type": "code",
      "execution_count": 39,
      "id": "bdcabc95",
      "metadata": {},
      "outputs": [
        {
          "data": {
            "text/plain": [
              "array(['bachelor/diploma', 'masters degree', 'higher education',\n",
              "       'high-school'], dtype=object)"
            ]
          },
          "execution_count": 39,
          "metadata": {},
          "output_type": "execute_result"
        }
      ],
      "source": [
        "df.education_level.unique()"
      ]
    },
    {
      "cell_type": "code",
      "execution_count": 40,
      "id": "c8264258",
      "metadata": {},
      "outputs": [
        {
          "data": {
            "text/html": [
              "<div>\n",
              "<style scoped>\n",
              "    .dataframe tbody tr th:only-of-type {\n",
              "        vertical-align: middle;\n",
              "    }\n",
              "\n",
              "    .dataframe tbody tr th {\n",
              "        vertical-align: top;\n",
              "    }\n",
              "\n",
              "    .dataframe thead th {\n",
              "        text-align: right;\n",
              "    }\n",
              "</style>\n",
              "<table border=\"1\" class=\"dataframe\">\n",
              "  <thead>\n",
              "    <tr style=\"text-align: right;\">\n",
              "      <th></th>\n",
              "      <th>office_distance_from_house</th>\n",
              "      <th>bonus_salary_percentage</th>\n",
              "      <th>job_satisfaction</th>\n",
              "      <th>education_level</th>\n",
              "      <th>overtime_hour</th>\n",
              "      <th>gender</th>\n",
              "      <th>churn</th>\n",
              "    </tr>\n",
              "  </thead>\n",
              "  <tbody>\n",
              "    <tr>\n",
              "      <th>0</th>\n",
              "      <td>8511.0</td>\n",
              "      <td>42.51</td>\n",
              "      <td>1.0</td>\n",
              "      <td>1.0</td>\n",
              "      <td>3.416556</td>\n",
              "      <td>0</td>\n",
              "      <td>0</td>\n",
              "    </tr>\n",
              "    <tr>\n",
              "      <th>558</th>\n",
              "      <td>6383.0</td>\n",
              "      <td>50.62</td>\n",
              "      <td>2.0</td>\n",
              "      <td>1.0</td>\n",
              "      <td>2.758004</td>\n",
              "      <td>1</td>\n",
              "      <td>1</td>\n",
              "    </tr>\n",
              "    <tr>\n",
              "      <th>559</th>\n",
              "      <td>11009.0</td>\n",
              "      <td>52.91</td>\n",
              "      <td>4.0</td>\n",
              "      <td>1.0</td>\n",
              "      <td>2.048636</td>\n",
              "      <td>1</td>\n",
              "      <td>0</td>\n",
              "    </tr>\n",
              "    <tr>\n",
              "      <th>560</th>\n",
              "      <td>6643.0</td>\n",
              "      <td>56.30</td>\n",
              "      <td>3.0</td>\n",
              "      <td>1.0</td>\n",
              "      <td>2.917020</td>\n",
              "      <td>1</td>\n",
              "      <td>0</td>\n",
              "    </tr>\n",
              "    <tr>\n",
              "      <th>561</th>\n",
              "      <td>18422.0</td>\n",
              "      <td>25.53</td>\n",
              "      <td>2.0</td>\n",
              "      <td>1.0</td>\n",
              "      <td>3.215196</td>\n",
              "      <td>1</td>\n",
              "      <td>1</td>\n",
              "    </tr>\n",
              "    <tr>\n",
              "      <th>...</th>\n",
              "      <td>...</td>\n",
              "      <td>...</td>\n",
              "      <td>...</td>\n",
              "      <td>...</td>\n",
              "      <td>...</td>\n",
              "      <td>...</td>\n",
              "      <td>...</td>\n",
              "    </tr>\n",
              "    <tr>\n",
              "      <th>258</th>\n",
              "      <td>18694.0</td>\n",
              "      <td>59.62</td>\n",
              "      <td>3.0</td>\n",
              "      <td>4.0</td>\n",
              "      <td>2.527929</td>\n",
              "      <td>1</td>\n",
              "      <td>0</td>\n",
              "    </tr>\n",
              "    <tr>\n",
              "      <th>494</th>\n",
              "      <td>24614.0</td>\n",
              "      <td>53.83</td>\n",
              "      <td>3.0</td>\n",
              "      <td>4.0</td>\n",
              "      <td>2.203556</td>\n",
              "      <td>1</td>\n",
              "      <td>0</td>\n",
              "    </tr>\n",
              "    <tr>\n",
              "      <th>365</th>\n",
              "      <td>17147.0</td>\n",
              "      <td>59.88</td>\n",
              "      <td>2.0</td>\n",
              "      <td>4.0</td>\n",
              "      <td>2.562299</td>\n",
              "      <td>0</td>\n",
              "      <td>1</td>\n",
              "    </tr>\n",
              "    <tr>\n",
              "      <th>405</th>\n",
              "      <td>15493.0</td>\n",
              "      <td>59.78</td>\n",
              "      <td>3.0</td>\n",
              "      <td>4.0</td>\n",
              "      <td>3.217649</td>\n",
              "      <td>0</td>\n",
              "      <td>0</td>\n",
              "    </tr>\n",
              "    <tr>\n",
              "      <th>222</th>\n",
              "      <td>17137.0</td>\n",
              "      <td>73.68</td>\n",
              "      <td>2.0</td>\n",
              "      <td>4.0</td>\n",
              "      <td>3.879477</td>\n",
              "      <td>0</td>\n",
              "      <td>0</td>\n",
              "    </tr>\n",
              "  </tbody>\n",
              "</table>\n",
              "<p>1033 rows × 7 columns</p>\n",
              "</div>"
            ],
            "text/plain": [
              "     office_distance_from_house  bonus_salary_percentage  job_satisfaction  \\\n",
              "0                        8511.0                    42.51               1.0   \n",
              "558                      6383.0                    50.62               2.0   \n",
              "559                     11009.0                    52.91               4.0   \n",
              "560                      6643.0                    56.30               3.0   \n",
              "561                     18422.0                    25.53               2.0   \n",
              "..                          ...                      ...               ...   \n",
              "258                     18694.0                    59.62               3.0   \n",
              "494                     24614.0                    53.83               3.0   \n",
              "365                     17147.0                    59.88               2.0   \n",
              "405                     15493.0                    59.78               3.0   \n",
              "222                     17137.0                    73.68               2.0   \n",
              "\n",
              "     education_level  overtime_hour  gender  churn  \n",
              "0                1.0       3.416556       0      0  \n",
              "558              1.0       2.758004       1      1  \n",
              "559              1.0       2.048636       1      0  \n",
              "560              1.0       2.917020       1      0  \n",
              "561              1.0       3.215196       1      1  \n",
              "..               ...            ...     ...    ...  \n",
              "258              4.0       2.527929       1      0  \n",
              "494              4.0       2.203556       1      0  \n",
              "365              4.0       2.562299       0      1  \n",
              "405              4.0       3.217649       0      0  \n",
              "222              4.0       3.879477       0      0  \n",
              "\n",
              "[1033 rows x 7 columns]"
            ]
          },
          "execution_count": 40,
          "metadata": {},
          "output_type": "execute_result"
        }
      ],
      "source": [
        "event_strength = {\n",
        "   'bachelor/diploma': 1.0,\n",
        "   'masters degree': 2.0,\n",
        "   'higher education': 3.0,\n",
        "   'high-school': 4.0,\n",
        "}\n",
        "df['education_level'] = df['education_level'].apply(lambda x: event_strength[x])\n",
        "df.sort_values('education_level', ascending=True)"
      ]
    },
    {
      "cell_type": "markdown",
      "id": "068742dd",
      "metadata": {},
      "source": [
        "- Seluruh data sudah dalam bentuk numerik."
      ]
    },
    {
      "cell_type": "code",
      "execution_count": 41,
      "id": "8ae5aaad",
      "metadata": {},
      "outputs": [
        {
          "data": {
            "text/plain": [
              "(1033, 7)"
            ]
          },
          "execution_count": 41,
          "metadata": {},
          "output_type": "execute_result"
        }
      ],
      "source": [
        "df.shape"
      ]
    },
    {
      "cell_type": "code",
      "execution_count": 42,
      "id": "df1617b7",
      "metadata": {},
      "outputs": [
        {
          "data": {
            "text/html": [
              "<div>\n",
              "<style scoped>\n",
              "    .dataframe tbody tr th:only-of-type {\n",
              "        vertical-align: middle;\n",
              "    }\n",
              "\n",
              "    .dataframe tbody tr th {\n",
              "        vertical-align: top;\n",
              "    }\n",
              "\n",
              "    .dataframe thead th {\n",
              "        text-align: right;\n",
              "    }\n",
              "</style>\n",
              "<table border=\"1\" class=\"dataframe\">\n",
              "  <thead>\n",
              "    <tr style=\"text-align: right;\">\n",
              "      <th></th>\n",
              "      <th>office_distance_from_house</th>\n",
              "      <th>bonus_salary_percentage</th>\n",
              "      <th>job_satisfaction</th>\n",
              "      <th>education_level</th>\n",
              "      <th>overtime_hour</th>\n",
              "      <th>gender</th>\n",
              "      <th>churn</th>\n",
              "    </tr>\n",
              "  </thead>\n",
              "  <tbody>\n",
              "    <tr>\n",
              "      <th>count</th>\n",
              "      <td>1033.000000</td>\n",
              "      <td>1033.000000</td>\n",
              "      <td>1033.000000</td>\n",
              "      <td>1033.000000</td>\n",
              "      <td>1033.000000</td>\n",
              "      <td>1033.000000</td>\n",
              "      <td>1033.000000</td>\n",
              "    </tr>\n",
              "    <tr>\n",
              "      <th>mean</th>\n",
              "      <td>10771.866409</td>\n",
              "      <td>52.125208</td>\n",
              "      <td>2.482091</td>\n",
              "      <td>1.492740</td>\n",
              "      <td>3.080121</td>\n",
              "      <td>0.499516</td>\n",
              "      <td>0.299129</td>\n",
              "    </tr>\n",
              "    <tr>\n",
              "      <th>std</th>\n",
              "      <td>3810.278239</td>\n",
              "      <td>13.624713</td>\n",
              "      <td>0.877098</td>\n",
              "      <td>0.563932</td>\n",
              "      <td>0.627240</td>\n",
              "      <td>0.500242</td>\n",
              "      <td>0.458098</td>\n",
              "    </tr>\n",
              "    <tr>\n",
              "      <th>min</th>\n",
              "      <td>583.000000</td>\n",
              "      <td>5.000000</td>\n",
              "      <td>0.000000</td>\n",
              "      <td>1.000000</td>\n",
              "      <td>1.000000</td>\n",
              "      <td>0.000000</td>\n",
              "      <td>0.000000</td>\n",
              "    </tr>\n",
              "    <tr>\n",
              "      <th>25%</th>\n",
              "      <td>8202.000000</td>\n",
              "      <td>42.600000</td>\n",
              "      <td>2.000000</td>\n",
              "      <td>1.000000</td>\n",
              "      <td>2.628310</td>\n",
              "      <td>0.000000</td>\n",
              "      <td>0.000000</td>\n",
              "    </tr>\n",
              "    <tr>\n",
              "      <th>50%</th>\n",
              "      <td>10530.000000</td>\n",
              "      <td>50.980000</td>\n",
              "      <td>3.000000</td>\n",
              "      <td>1.000000</td>\n",
              "      <td>3.062020</td>\n",
              "      <td>0.000000</td>\n",
              "      <td>0.000000</td>\n",
              "    </tr>\n",
              "    <tr>\n",
              "      <th>75%</th>\n",
              "      <td>13185.000000</td>\n",
              "      <td>61.730000</td>\n",
              "      <td>3.000000</td>\n",
              "      <td>2.000000</td>\n",
              "      <td>3.483906</td>\n",
              "      <td>1.000000</td>\n",
              "      <td>1.000000</td>\n",
              "    </tr>\n",
              "    <tr>\n",
              "      <th>max</th>\n",
              "      <td>24786.000000</td>\n",
              "      <td>95.700000</td>\n",
              "      <td>5.000000</td>\n",
              "      <td>4.000000</td>\n",
              "      <td>5.000000</td>\n",
              "      <td>1.000000</td>\n",
              "      <td>1.000000</td>\n",
              "    </tr>\n",
              "  </tbody>\n",
              "</table>\n",
              "</div>"
            ],
            "text/plain": [
              "       office_distance_from_house  bonus_salary_percentage  job_satisfaction  \\\n",
              "count                 1033.000000              1033.000000       1033.000000   \n",
              "mean                 10771.866409                52.125208          2.482091   \n",
              "std                   3810.278239                13.624713          0.877098   \n",
              "min                    583.000000                 5.000000          0.000000   \n",
              "25%                   8202.000000                42.600000          2.000000   \n",
              "50%                  10530.000000                50.980000          3.000000   \n",
              "75%                  13185.000000                61.730000          3.000000   \n",
              "max                  24786.000000                95.700000          5.000000   \n",
              "\n",
              "       education_level  overtime_hour       gender        churn  \n",
              "count      1033.000000    1033.000000  1033.000000  1033.000000  \n",
              "mean          1.492740       3.080121     0.499516     0.299129  \n",
              "std           0.563932       0.627240     0.500242     0.458098  \n",
              "min           1.000000       1.000000     0.000000     0.000000  \n",
              "25%           1.000000       2.628310     0.000000     0.000000  \n",
              "50%           1.000000       3.062020     0.000000     0.000000  \n",
              "75%           2.000000       3.483906     1.000000     1.000000  \n",
              "max           4.000000       5.000000     1.000000     1.000000  "
            ]
          },
          "execution_count": 42,
          "metadata": {},
          "output_type": "execute_result"
        }
      ],
      "source": [
        "df.describe()"
      ]
    },
    {
      "cell_type": "markdown",
      "id": "4f49ea55",
      "metadata": {},
      "source": [
        "### **Handling Missing Values**"
      ]
    },
    {
      "cell_type": "code",
      "execution_count": 43,
      "id": "166bdeed",
      "metadata": {},
      "outputs": [
        {
          "data": {
            "text/plain": [
              "office_distance_from_house    0\n",
              "bonus_salary_percentage       0\n",
              "job_satisfaction              0\n",
              "education_level               0\n",
              "overtime_hour                 0\n",
              "gender                        0\n",
              "churn                         0\n",
              "dtype: int64"
            ]
          },
          "execution_count": 43,
          "metadata": {},
          "output_type": "execute_result"
        }
      ],
      "source": [
        "df.isnull().sum()"
      ]
    },
    {
      "cell_type": "markdown",
      "id": "323fece7",
      "metadata": {},
      "source": [
        "- Data tidak memiliki missing values."
      ]
    },
    {
      "cell_type": "markdown",
      "id": "d1b926f2",
      "metadata": {},
      "source": [
        "### **Exploratory Data Analysis (EDA)**"
      ]
    },
    {
      "cell_type": "code",
      "execution_count": 44,
      "id": "9c3f6d31",
      "metadata": {},
      "outputs": [
        {
          "data": {
            "text/html": [
              "<div>\n",
              "<style scoped>\n",
              "    .dataframe tbody tr th:only-of-type {\n",
              "        vertical-align: middle;\n",
              "    }\n",
              "\n",
              "    .dataframe tbody tr th {\n",
              "        vertical-align: top;\n",
              "    }\n",
              "\n",
              "    .dataframe thead th {\n",
              "        text-align: right;\n",
              "    }\n",
              "</style>\n",
              "<table border=\"1\" class=\"dataframe\">\n",
              "  <thead>\n",
              "    <tr style=\"text-align: right;\">\n",
              "      <th></th>\n",
              "      <th>office_distance_from_house</th>\n",
              "      <th>bonus_salary_percentage</th>\n",
              "      <th>job_satisfaction</th>\n",
              "      <th>education_level</th>\n",
              "      <th>overtime_hour</th>\n",
              "      <th>gender</th>\n",
              "      <th>churn</th>\n",
              "    </tr>\n",
              "  </thead>\n",
              "  <tbody>\n",
              "    <tr>\n",
              "      <th>0</th>\n",
              "      <td>8511.0</td>\n",
              "      <td>42.51</td>\n",
              "      <td>1.0</td>\n",
              "      <td>1.0</td>\n",
              "      <td>3.416556</td>\n",
              "      <td>0</td>\n",
              "      <td>0</td>\n",
              "    </tr>\n",
              "    <tr>\n",
              "      <th>1</th>\n",
              "      <td>10090.0</td>\n",
              "      <td>57.48</td>\n",
              "      <td>2.0</td>\n",
              "      <td>1.0</td>\n",
              "      <td>2.897149</td>\n",
              "      <td>0</td>\n",
              "      <td>0</td>\n",
              "    </tr>\n",
              "    <tr>\n",
              "      <th>2</th>\n",
              "      <td>18652.0</td>\n",
              "      <td>41.22</td>\n",
              "      <td>2.0</td>\n",
              "      <td>1.0</td>\n",
              "      <td>3.180264</td>\n",
              "      <td>1</td>\n",
              "      <td>1</td>\n",
              "    </tr>\n",
              "    <tr>\n",
              "      <th>3</th>\n",
              "      <td>13392.0</td>\n",
              "      <td>63.57</td>\n",
              "      <td>3.0</td>\n",
              "      <td>1.0</td>\n",
              "      <td>3.429648</td>\n",
              "      <td>0</td>\n",
              "      <td>0</td>\n",
              "    </tr>\n",
              "    <tr>\n",
              "      <th>4</th>\n",
              "      <td>13356.0</td>\n",
              "      <td>46.16</td>\n",
              "      <td>2.0</td>\n",
              "      <td>1.0</td>\n",
              "      <td>3.812226</td>\n",
              "      <td>1</td>\n",
              "      <td>1</td>\n",
              "    </tr>\n",
              "    <tr>\n",
              "      <th>...</th>\n",
              "      <td>...</td>\n",
              "      <td>...</td>\n",
              "      <td>...</td>\n",
              "      <td>...</td>\n",
              "      <td>...</td>\n",
              "      <td>...</td>\n",
              "      <td>...</td>\n",
              "    </tr>\n",
              "    <tr>\n",
              "      <th>1028</th>\n",
              "      <td>12972.0</td>\n",
              "      <td>73.90</td>\n",
              "      <td>2.0</td>\n",
              "      <td>1.0</td>\n",
              "      <td>2.661765</td>\n",
              "      <td>0</td>\n",
              "      <td>0</td>\n",
              "    </tr>\n",
              "    <tr>\n",
              "      <th>1029</th>\n",
              "      <td>7881.0</td>\n",
              "      <td>37.09</td>\n",
              "      <td>2.0</td>\n",
              "      <td>2.0</td>\n",
              "      <td>2.518952</td>\n",
              "      <td>0</td>\n",
              "      <td>1</td>\n",
              "    </tr>\n",
              "    <tr>\n",
              "      <th>1030</th>\n",
              "      <td>12003.0</td>\n",
              "      <td>66.86</td>\n",
              "      <td>1.0</td>\n",
              "      <td>2.0</td>\n",
              "      <td>4.882591</td>\n",
              "      <td>0</td>\n",
              "      <td>0</td>\n",
              "    </tr>\n",
              "    <tr>\n",
              "      <th>1031</th>\n",
              "      <td>9843.0</td>\n",
              "      <td>52.03</td>\n",
              "      <td>2.0</td>\n",
              "      <td>2.0</td>\n",
              "      <td>3.829853</td>\n",
              "      <td>0</td>\n",
              "      <td>0</td>\n",
              "    </tr>\n",
              "    <tr>\n",
              "      <th>1032</th>\n",
              "      <td>16330.0</td>\n",
              "      <td>54.31</td>\n",
              "      <td>3.0</td>\n",
              "      <td>1.0</td>\n",
              "      <td>4.102752</td>\n",
              "      <td>1</td>\n",
              "      <td>0</td>\n",
              "    </tr>\n",
              "  </tbody>\n",
              "</table>\n",
              "<p>1033 rows × 7 columns</p>\n",
              "</div>"
            ],
            "text/plain": [
              "      office_distance_from_house  bonus_salary_percentage  job_satisfaction  \\\n",
              "0                         8511.0                    42.51               1.0   \n",
              "1                        10090.0                    57.48               2.0   \n",
              "2                        18652.0                    41.22               2.0   \n",
              "3                        13392.0                    63.57               3.0   \n",
              "4                        13356.0                    46.16               2.0   \n",
              "...                          ...                      ...               ...   \n",
              "1028                     12972.0                    73.90               2.0   \n",
              "1029                      7881.0                    37.09               2.0   \n",
              "1030                     12003.0                    66.86               1.0   \n",
              "1031                      9843.0                    52.03               2.0   \n",
              "1032                     16330.0                    54.31               3.0   \n",
              "\n",
              "      education_level  overtime_hour  gender  churn  \n",
              "0                 1.0       3.416556       0      0  \n",
              "1                 1.0       2.897149       0      0  \n",
              "2                 1.0       3.180264       1      1  \n",
              "3                 1.0       3.429648       0      0  \n",
              "4                 1.0       3.812226       1      1  \n",
              "...               ...            ...     ...    ...  \n",
              "1028              1.0       2.661765       0      0  \n",
              "1029              2.0       2.518952       0      1  \n",
              "1030              2.0       4.882591       0      0  \n",
              "1031              2.0       3.829853       0      0  \n",
              "1032              1.0       4.102752       1      0  \n",
              "\n",
              "[1033 rows x 7 columns]"
            ]
          },
          "execution_count": 44,
          "metadata": {},
          "output_type": "execute_result"
        }
      ],
      "source": [
        "# Recall data\n",
        "df"
      ]
    },
    {
      "cell_type": "markdown",
      "id": "1745a7c5",
      "metadata": {},
      "source": [
        "*Karyawan pindah*"
      ]
    },
    {
      "cell_type": "code",
      "execution_count": 45,
      "id": "4209b657",
      "metadata": {},
      "outputs": [
        {
          "data": {
            "text/html": [
              "<div>\n",
              "<style scoped>\n",
              "    .dataframe tbody tr th:only-of-type {\n",
              "        vertical-align: middle;\n",
              "    }\n",
              "\n",
              "    .dataframe tbody tr th {\n",
              "        vertical-align: top;\n",
              "    }\n",
              "\n",
              "    .dataframe thead th {\n",
              "        text-align: right;\n",
              "    }\n",
              "</style>\n",
              "<table border=\"1\" class=\"dataframe\">\n",
              "  <thead>\n",
              "    <tr style=\"text-align: right;\">\n",
              "      <th></th>\n",
              "      <th>office_distance_from_house</th>\n",
              "      <th>bonus_salary_percentage</th>\n",
              "      <th>job_satisfaction</th>\n",
              "      <th>education_level</th>\n",
              "      <th>overtime_hour</th>\n",
              "      <th>gender</th>\n",
              "      <th>churn</th>\n",
              "    </tr>\n",
              "  </thead>\n",
              "  <tbody>\n",
              "    <tr>\n",
              "      <th>2</th>\n",
              "      <td>18652.0</td>\n",
              "      <td>41.22</td>\n",
              "      <td>2.0</td>\n",
              "      <td>1.0</td>\n",
              "      <td>3.180264</td>\n",
              "      <td>1</td>\n",
              "      <td>1</td>\n",
              "    </tr>\n",
              "    <tr>\n",
              "      <th>4</th>\n",
              "      <td>13356.0</td>\n",
              "      <td>46.16</td>\n",
              "      <td>2.0</td>\n",
              "      <td>1.0</td>\n",
              "      <td>3.812226</td>\n",
              "      <td>1</td>\n",
              "      <td>1</td>\n",
              "    </tr>\n",
              "    <tr>\n",
              "      <th>17</th>\n",
              "      <td>9424.0</td>\n",
              "      <td>37.46</td>\n",
              "      <td>3.0</td>\n",
              "      <td>1.0</td>\n",
              "      <td>1.832275</td>\n",
              "      <td>0</td>\n",
              "      <td>1</td>\n",
              "    </tr>\n",
              "    <tr>\n",
              "      <th>25</th>\n",
              "      <td>22507.0</td>\n",
              "      <td>26.81</td>\n",
              "      <td>2.0</td>\n",
              "      <td>1.0</td>\n",
              "      <td>3.537014</td>\n",
              "      <td>1</td>\n",
              "      <td>1</td>\n",
              "    </tr>\n",
              "    <tr>\n",
              "      <th>26</th>\n",
              "      <td>17671.0</td>\n",
              "      <td>51.62</td>\n",
              "      <td>2.0</td>\n",
              "      <td>1.0</td>\n",
              "      <td>2.375723</td>\n",
              "      <td>1</td>\n",
              "      <td>1</td>\n",
              "    </tr>\n",
              "    <tr>\n",
              "      <th>...</th>\n",
              "      <td>...</td>\n",
              "      <td>...</td>\n",
              "      <td>...</td>\n",
              "      <td>...</td>\n",
              "      <td>...</td>\n",
              "      <td>...</td>\n",
              "      <td>...</td>\n",
              "    </tr>\n",
              "    <tr>\n",
              "      <th>1021</th>\n",
              "      <td>14776.0</td>\n",
              "      <td>57.74</td>\n",
              "      <td>2.0</td>\n",
              "      <td>1.0</td>\n",
              "      <td>3.030431</td>\n",
              "      <td>1</td>\n",
              "      <td>1</td>\n",
              "    </tr>\n",
              "    <tr>\n",
              "      <th>1022</th>\n",
              "      <td>20218.0</td>\n",
              "      <td>12.89</td>\n",
              "      <td>2.0</td>\n",
              "      <td>1.0</td>\n",
              "      <td>3.214769</td>\n",
              "      <td>0</td>\n",
              "      <td>1</td>\n",
              "    </tr>\n",
              "    <tr>\n",
              "      <th>1024</th>\n",
              "      <td>14265.0</td>\n",
              "      <td>43.72</td>\n",
              "      <td>1.0</td>\n",
              "      <td>1.0</td>\n",
              "      <td>3.665780</td>\n",
              "      <td>0</td>\n",
              "      <td>1</td>\n",
              "    </tr>\n",
              "    <tr>\n",
              "      <th>1027</th>\n",
              "      <td>14480.0</td>\n",
              "      <td>34.52</td>\n",
              "      <td>1.0</td>\n",
              "      <td>1.0</td>\n",
              "      <td>3.869863</td>\n",
              "      <td>0</td>\n",
              "      <td>1</td>\n",
              "    </tr>\n",
              "    <tr>\n",
              "      <th>1029</th>\n",
              "      <td>7881.0</td>\n",
              "      <td>37.09</td>\n",
              "      <td>2.0</td>\n",
              "      <td>2.0</td>\n",
              "      <td>2.518952</td>\n",
              "      <td>0</td>\n",
              "      <td>1</td>\n",
              "    </tr>\n",
              "  </tbody>\n",
              "</table>\n",
              "<p>309 rows × 7 columns</p>\n",
              "</div>"
            ],
            "text/plain": [
              "      office_distance_from_house  bonus_salary_percentage  job_satisfaction  \\\n",
              "2                        18652.0                    41.22               2.0   \n",
              "4                        13356.0                    46.16               2.0   \n",
              "17                        9424.0                    37.46               3.0   \n",
              "25                       22507.0                    26.81               2.0   \n",
              "26                       17671.0                    51.62               2.0   \n",
              "...                          ...                      ...               ...   \n",
              "1021                     14776.0                    57.74               2.0   \n",
              "1022                     20218.0                    12.89               2.0   \n",
              "1024                     14265.0                    43.72               1.0   \n",
              "1027                     14480.0                    34.52               1.0   \n",
              "1029                      7881.0                    37.09               2.0   \n",
              "\n",
              "      education_level  overtime_hour  gender  churn  \n",
              "2                 1.0       3.180264       1      1  \n",
              "4                 1.0       3.812226       1      1  \n",
              "17                1.0       1.832275       0      1  \n",
              "25                1.0       3.537014       1      1  \n",
              "26                1.0       2.375723       1      1  \n",
              "...               ...            ...     ...    ...  \n",
              "1021              1.0       3.030431       1      1  \n",
              "1022              1.0       3.214769       0      1  \n",
              "1024              1.0       3.665780       0      1  \n",
              "1027              1.0       3.869863       0      1  \n",
              "1029              2.0       2.518952       0      1  \n",
              "\n",
              "[309 rows x 7 columns]"
            ]
          },
          "execution_count": 45,
          "metadata": {},
          "output_type": "execute_result"
        }
      ],
      "source": [
        "# Membuat tabel kategori hanya karyawan yang pindah\n",
        "churn_1 = df[df.churn == 1]\n",
        "churn_1"
      ]
    },
    {
      "cell_type": "code",
      "execution_count": 46,
      "id": "51ebe615",
      "metadata": {},
      "outputs": [
        {
          "data": {
            "image/png": "[encoded data removed]",
            "text/plain": [
              "<Figure size 864x288 with 2 Axes>"
            ]
          },
          "metadata": {
            "needs_background": "light"
          },
          "output_type": "display_data"
        }
      ],
      "source": [
        "# Distribusi dari office_distance_from_house\n",
        "f = plt.figure(figsize=(12,4))\n",
        "f.add_subplot(1,2,1)\n",
        "churn_1['office_distance_from_house'].plot(kind='kde')\n",
        "f.add_subplot(1,2,2)\n",
        "plt.boxplot(churn_1['office_distance_from_house'])\n",
        "plt.show()"
      ]
    },
    {
      "cell_type": "markdown",
      "id": "fd96bad1",
      "metadata": {},
      "source": [
        "- Density dari distribusi jarak (dalam meter) kantor ke rumah karyawan yang pindah berada di angka 12000an\n",
        "- Data memiliki outliers"
      ]
    },
    {
      "cell_type": "code",
      "execution_count": 47,
      "id": "6cf2008a",
      "metadata": {},
      "outputs": [
        {
          "data": {
            "image/png": "[encoded data removed]",
            "text/plain": [
              "<Figure size 864x288 with 2 Axes>"
            ]
          },
          "metadata": {
            "needs_background": "light"
          },
          "output_type": "display_data"
        }
      ],
      "source": [
        "# Distribusi dari bonus_salary_percentage\n",
        "f = plt.figure(figsize=(12,4))\n",
        "f.add_subplot(1,2,1)\n",
        "churn_1['bonus_salary_percentage'].plot(kind='kde')\n",
        "f.add_subplot(1,2,2)\n",
        "plt.boxplot(churn_1['bonus_salary_percentage'])\n",
        "plt.show()"
      ]
    },
    {
      "cell_type": "markdown",
      "id": "15d69d6d",
      "metadata": {},
      "source": [
        "- Density dari distribusi persentase bonus gaji yang diterima karyawan yang pindah dalam 6 bulan terakhir berada di angka 42an\n",
        "- Data memiliki banyak outliers"
      ]
    },
    {
      "cell_type": "code",
      "execution_count": 48,
      "id": "51a4ce9b",
      "metadata": {},
      "outputs": [
        {
          "name": "stderr",
          "output_type": "stream",
          "text": [
            "C:\\Users\\Nanda\\AppData\\Roaming\\Python\\Python310\\site-packages\\seaborn\\_decorators.py:36: FutureWarning: Pass the following variable as a keyword arg: x. From version 0.12, the only valid positional argument will be `data`, and passing other arguments without an explicit keyword will result in an error or misinterpretation.\n",
            "  warnings.warn(\n"
          ]
        },
        {
          "data": {
            "image/png": "[encoded data removed]",
            "text/plain": [
              "<Figure size 864x288 with 2 Axes>"
            ]
          },
          "metadata": {
            "needs_background": "light"
          },
          "output_type": "display_data"
        }
      ],
      "source": [
        "# Distribusi dari job_satisfaction\n",
        "f = plt.figure(figsize=(12,4))\n",
        "f.add_subplot(1,2,1)\n",
        "sns.countplot(churn_1['job_satisfaction'])\n",
        "f.add_subplot(1,2,2)\n",
        "plt.boxplot(churn_1['job_satisfaction'])\n",
        "plt.show()"
      ]
    },
    {
      "cell_type": "markdown",
      "id": "2334b66a",
      "metadata": {},
      "source": [
        "- Sebagian besar karyawan yang pindah memiliki tingkat kepuasan kerja 2 dan 1.\n",
        "- Data tidak memiliki outliers."
      ]
    },
    {
      "cell_type": "code",
      "execution_count": 49,
      "id": "11da50e5",
      "metadata": {},
      "outputs": [
        {
          "name": "stderr",
          "output_type": "stream",
          "text": [
            "C:\\Users\\Nanda\\AppData\\Roaming\\Python\\Python310\\site-packages\\seaborn\\_decorators.py:36: FutureWarning: Pass the following variable as a keyword arg: x. From version 0.12, the only valid positional argument will be `data`, and passing other arguments without an explicit keyword will result in an error or misinterpretation.\n",
            "  warnings.warn(\n"
          ]
        },
        {
          "data": {
            "image/png": "[encoded data removed]",
            "text/plain": [
              "<Figure size 864x288 with 2 Axes>"
            ]
          },
          "metadata": {
            "needs_background": "light"
          },
          "output_type": "display_data"
        }
      ],
      "source": [
        "# Distribusi dari education_level\n",
        "f = plt.figure(figsize=(12,4))\n",
        "f.add_subplot(1,2,1)\n",
        "sns.countplot(churn_1['education_level'])\n",
        "f.add_subplot(1,2,2)\n",
        "plt.boxplot(churn_1['education_level'])\n",
        "plt.show()"
      ]
    },
    {
      "cell_type": "markdown",
      "id": "06f3c44f",
      "metadata": {},
      "source": [
        "- Sebagian besar karyawan yang pindah memiliki tingkat pendidikan 1 dan 2.\n",
        "- Data memiliki outliers."
      ]
    },
    {
      "cell_type": "code",
      "execution_count": 50,
      "id": "71e581e2",
      "metadata": {},
      "outputs": [
        {
          "data": {
            "image/png": "[encoded data removed]",
            "text/plain": [
              "<Figure size 864x288 with 2 Axes>"
            ]
          },
          "metadata": {
            "needs_background": "light"
          },
          "output_type": "display_data"
        }
      ],
      "source": [
        "# Distribusi dari overtime_hour\n",
        "f = plt.figure(figsize=(12,4))\n",
        "f.add_subplot(1,2,1)\n",
        "churn_1['overtime_hour'].plot(kind='kde')\n",
        "f.add_subplot(1,2,2)\n",
        "plt.boxplot(churn_1['overtime_hour'])\n",
        "plt.show()"
      ]
    },
    {
      "cell_type": "markdown",
      "id": "883cb5e4",
      "metadata": {},
      "source": [
        "- Density dari distribusi lama waktu lembur rata-rata (dalam jam) karyawan yang pindah berada di angka 3 jam an.\n",
        "- Data memiliki outliers."
      ]
    },
    {
      "cell_type": "code",
      "execution_count": 51,
      "id": "33e5443b",
      "metadata": {},
      "outputs": [
        {
          "name": "stderr",
          "output_type": "stream",
          "text": [
            "C:\\Users\\Nanda\\AppData\\Roaming\\Python\\Python310\\site-packages\\seaborn\\_decorators.py:36: FutureWarning: Pass the following variable as a keyword arg: x. From version 0.12, the only valid positional argument will be `data`, and passing other arguments without an explicit keyword will result in an error or misinterpretation.\n",
            "  warnings.warn(\n"
          ]
        },
        {
          "data": {
            "image/png": "[encoded data removed]",
            "text/plain": [
              "<Figure size 864x288 with 2 Axes>"
            ]
          },
          "metadata": {
            "needs_background": "light"
          },
          "output_type": "display_data"
        }
      ],
      "source": [
        "# Distribusi dari gender\n",
        "f = plt.figure(figsize=(12,4))\n",
        "f.add_subplot(1,2,1)\n",
        "sns.countplot(churn_1['gender'])\n",
        "f.add_subplot(1,2,2)\n",
        "plt.boxplot(churn_1['gender'])\n",
        "plt.show()"
      ]
    },
    {
      "cell_type": "markdown",
      "id": "96f66e3e",
      "metadata": {},
      "source": [
        "- Karyawan yang pindah memiliki gender yang sebanding nilainya.\n",
        "- Data tidak memiliki outliers"
      ]
    },
    {
      "cell_type": "markdown",
      "id": "7266921e",
      "metadata": {},
      "source": [
        "*Karyawan tidak pindah*"
      ]
    },
    {
      "cell_type": "code",
      "execution_count": 52,
      "id": "8d0e0e14",
      "metadata": {},
      "outputs": [
        {
          "data": {
            "text/html": [
              "<div>\n",
              "<style scoped>\n",
              "    .dataframe tbody tr th:only-of-type {\n",
              "        vertical-align: middle;\n",
              "    }\n",
              "\n",
              "    .dataframe tbody tr th {\n",
              "        vertical-align: top;\n",
              "    }\n",
              "\n",
              "    .dataframe thead th {\n",
              "        text-align: right;\n",
              "    }\n",
              "</style>\n",
              "<table border=\"1\" class=\"dataframe\">\n",
              "  <thead>\n",
              "    <tr style=\"text-align: right;\">\n",
              "      <th></th>\n",
              "      <th>office_distance_from_house</th>\n",
              "      <th>bonus_salary_percentage</th>\n",
              "      <th>job_satisfaction</th>\n",
              "      <th>education_level</th>\n",
              "      <th>overtime_hour</th>\n",
              "      <th>gender</th>\n",
              "      <th>churn</th>\n",
              "    </tr>\n",
              "  </thead>\n",
              "  <tbody>\n",
              "    <tr>\n",
              "      <th>0</th>\n",
              "      <td>8511.0</td>\n",
              "      <td>42.51</td>\n",
              "      <td>1.0</td>\n",
              "      <td>1.0</td>\n",
              "      <td>3.416556</td>\n",
              "      <td>0</td>\n",
              "      <td>0</td>\n",
              "    </tr>\n",
              "    <tr>\n",
              "      <th>1</th>\n",
              "      <td>10090.0</td>\n",
              "      <td>57.48</td>\n",
              "      <td>2.0</td>\n",
              "      <td>1.0</td>\n",
              "      <td>2.897149</td>\n",
              "      <td>0</td>\n",
              "      <td>0</td>\n",
              "    </tr>\n",
              "    <tr>\n",
              "      <th>3</th>\n",
              "      <td>13392.0</td>\n",
              "      <td>63.57</td>\n",
              "      <td>3.0</td>\n",
              "      <td>1.0</td>\n",
              "      <td>3.429648</td>\n",
              "      <td>0</td>\n",
              "      <td>0</td>\n",
              "    </tr>\n",
              "    <tr>\n",
              "      <th>5</th>\n",
              "      <td>8637.0</td>\n",
              "      <td>45.40</td>\n",
              "      <td>2.0</td>\n",
              "      <td>2.0</td>\n",
              "      <td>2.957464</td>\n",
              "      <td>1</td>\n",
              "      <td>0</td>\n",
              "    </tr>\n",
              "    <tr>\n",
              "      <th>6</th>\n",
              "      <td>10121.0</td>\n",
              "      <td>59.67</td>\n",
              "      <td>5.0</td>\n",
              "      <td>1.0</td>\n",
              "      <td>2.166112</td>\n",
              "      <td>1</td>\n",
              "      <td>0</td>\n",
              "    </tr>\n",
              "    <tr>\n",
              "      <th>...</th>\n",
              "      <td>...</td>\n",
              "      <td>...</td>\n",
              "      <td>...</td>\n",
              "      <td>...</td>\n",
              "      <td>...</td>\n",
              "      <td>...</td>\n",
              "      <td>...</td>\n",
              "    </tr>\n",
              "    <tr>\n",
              "      <th>1026</th>\n",
              "      <td>12403.0</td>\n",
              "      <td>71.02</td>\n",
              "      <td>2.0</td>\n",
              "      <td>1.0</td>\n",
              "      <td>3.370856</td>\n",
              "      <td>1</td>\n",
              "      <td>0</td>\n",
              "    </tr>\n",
              "    <tr>\n",
              "      <th>1028</th>\n",
              "      <td>12972.0</td>\n",
              "      <td>73.90</td>\n",
              "      <td>2.0</td>\n",
              "      <td>1.0</td>\n",
              "      <td>2.661765</td>\n",
              "      <td>0</td>\n",
              "      <td>0</td>\n",
              "    </tr>\n",
              "    <tr>\n",
              "      <th>1030</th>\n",
              "      <td>12003.0</td>\n",
              "      <td>66.86</td>\n",
              "      <td>1.0</td>\n",
              "      <td>2.0</td>\n",
              "      <td>4.882591</td>\n",
              "      <td>0</td>\n",
              "      <td>0</td>\n",
              "    </tr>\n",
              "    <tr>\n",
              "      <th>1031</th>\n",
              "      <td>9843.0</td>\n",
              "      <td>52.03</td>\n",
              "      <td>2.0</td>\n",
              "      <td>2.0</td>\n",
              "      <td>3.829853</td>\n",
              "      <td>0</td>\n",
              "      <td>0</td>\n",
              "    </tr>\n",
              "    <tr>\n",
              "      <th>1032</th>\n",
              "      <td>16330.0</td>\n",
              "      <td>54.31</td>\n",
              "      <td>3.0</td>\n",
              "      <td>1.0</td>\n",
              "      <td>4.102752</td>\n",
              "      <td>1</td>\n",
              "      <td>0</td>\n",
              "    </tr>\n",
              "  </tbody>\n",
              "</table>\n",
              "<p>724 rows × 7 columns</p>\n",
              "</div>"
            ],
            "text/plain": [
              "      office_distance_from_house  bonus_salary_percentage  job_satisfaction  \\\n",
              "0                         8511.0                    42.51               1.0   \n",
              "1                        10090.0                    57.48               2.0   \n",
              "3                        13392.0                    63.57               3.0   \n",
              "5                         8637.0                    45.40               2.0   \n",
              "6                        10121.0                    59.67               5.0   \n",
              "...                          ...                      ...               ...   \n",
              "1026                     12403.0                    71.02               2.0   \n",
              "1028                     12972.0                    73.90               2.0   \n",
              "1030                     12003.0                    66.86               1.0   \n",
              "1031                      9843.0                    52.03               2.0   \n",
              "1032                     16330.0                    54.31               3.0   \n",
              "\n",
              "      education_level  overtime_hour  gender  churn  \n",
              "0                 1.0       3.416556       0      0  \n",
              "1                 1.0       2.897149       0      0  \n",
              "3                 1.0       3.429648       0      0  \n",
              "5                 2.0       2.957464       1      0  \n",
              "6                 1.0       2.166112       1      0  \n",
              "...               ...            ...     ...    ...  \n",
              "1026              1.0       3.370856       1      0  \n",
              "1028              1.0       2.661765       0      0  \n",
              "1030              2.0       4.882591       0      0  \n",
              "1031              2.0       3.829853       0      0  \n",
              "1032              1.0       4.102752       1      0  \n",
              "\n",
              "[724 rows x 7 columns]"
            ]
          },
          "execution_count": 52,
          "metadata": {},
          "output_type": "execute_result"
        }
      ],
      "source": [
        "# Membuat tabel kategori hanya karyawan yang tidak pindah\n",
        "churn_0 = df[df.churn == 0]\n",
        "churn_0"
      ]
    },
    {
      "cell_type": "code",
      "execution_count": 53,
      "id": "0f26b571",
      "metadata": {},
      "outputs": [
        {
          "data": {
            "image/png": "[encoded data removed]",
            "text/plain": [
              "<Figure size 864x288 with 2 Axes>"
            ]
          },
          "metadata": {
            "needs_background": "light"
          },
          "output_type": "display_data"
        }
      ],
      "source": [
        "# Distribusi dari office_distance_from_house\n",
        "f = plt.figure(figsize=(12,4))\n",
        "f.add_subplot(1,2,1)\n",
        "churn_0['office_distance_from_house'].plot(kind='kde')\n",
        "f.add_subplot(1,2,2)\n",
        "plt.boxplot(churn_0['office_distance_from_house'])\n",
        "plt.show()"
      ]
    },
    {
      "cell_type": "markdown",
      "id": "fe8c8ed6",
      "metadata": {},
      "source": [
        "- Density dari distribusi jarak (dalam meter) kantor ke rumah karyawan yang tidak pindah berada di angka 10000an\n",
        "- Data memiliki banyak outliers"
      ]
    },
    {
      "cell_type": "code",
      "execution_count": 54,
      "id": "52af786a",
      "metadata": {},
      "outputs": [
        {
          "data": {
            "image/png": "[encoded data removed]",
            "text/plain": [
              "<Figure size 864x288 with 2 Axes>"
            ]
          },
          "metadata": {
            "needs_background": "light"
          },
          "output_type": "display_data"
        }
      ],
      "source": [
        "# Distribusi dari bonus_salary_percentage\n",
        "f = plt.figure(figsize=(12,4))\n",
        "f.add_subplot(1,2,1)\n",
        "churn_0['bonus_salary_percentage'].plot(kind='kde')\n",
        "f.add_subplot(1,2,2)\n",
        "plt.boxplot(churn_0['bonus_salary_percentage'])\n",
        "plt.show()"
      ]
    },
    {
      "cell_type": "markdown",
      "id": "3ee03868",
      "metadata": {},
      "source": [
        "- Density dari distribusi persentase bonus gaji yang diterima karyawan dalam 6 bulan terakhir berada di angka 55an\n",
        "- Data memiliki outliers"
      ]
    },
    {
      "cell_type": "code",
      "execution_count": 55,
      "id": "e316f103",
      "metadata": {},
      "outputs": [
        {
          "name": "stderr",
          "output_type": "stream",
          "text": [
            "C:\\Users\\Nanda\\AppData\\Roaming\\Python\\Python310\\site-packages\\seaborn\\_decorators.py:36: FutureWarning: Pass the following variable as a keyword arg: x. From version 0.12, the only valid positional argument will be `data`, and passing other arguments without an explicit keyword will result in an error or misinterpretation.\n",
            "  warnings.warn(\n"
          ]
        },
        {
          "data": {
            "image/png": "[encoded data removed]",
            "text/plain": [
              "<Figure size 864x288 with 2 Axes>"
            ]
          },
          "metadata": {
            "needs_background": "light"
          },
          "output_type": "display_data"
        }
      ],
      "source": [
        "# Distribusi dari job_satisfaction\n",
        "f = plt.figure(figsize=(12,4))\n",
        "f.add_subplot(1,2,1)\n",
        "sns.countplot(churn_0['job_satisfaction'])\n",
        "f.add_subplot(1,2,2)\n",
        "plt.boxplot(churn_0['job_satisfaction'])\n",
        "plt.show()"
      ]
    },
    {
      "cell_type": "markdown",
      "id": "fe3b517a",
      "metadata": {},
      "source": [
        "- Sebagian besar karyawan yang tidak pindah memiliki tingkat kepuasan kerja 2 dan 3.\n",
        "- Data memiliki outliers"
      ]
    },
    {
      "cell_type": "code",
      "execution_count": 56,
      "id": "ca88bfc2",
      "metadata": {},
      "outputs": [
        {
          "name": "stderr",
          "output_type": "stream",
          "text": [
            "C:\\Users\\Nanda\\AppData\\Roaming\\Python\\Python310\\site-packages\\seaborn\\_decorators.py:36: FutureWarning: Pass the following variable as a keyword arg: x. From version 0.12, the only valid positional argument will be `data`, and passing other arguments without an explicit keyword will result in an error or misinterpretation.\n",
            "  warnings.warn(\n"
          ]
        },
        {
          "data": {
            "image/png": "[encoded data removed]",
            "text/plain": [
              "<Figure size 864x288 with 2 Axes>"
            ]
          },
          "metadata": {
            "needs_background": "light"
          },
          "output_type": "display_data"
        }
      ],
      "source": [
        "# Distribusi dari education_level\n",
        "f = plt.figure(figsize=(12,4))\n",
        "f.add_subplot(1,2,1)\n",
        "sns.countplot(churn_0['education_level'])\n",
        "f.add_subplot(1,2,2)\n",
        "plt.boxplot(churn_0['education_level'])\n",
        "plt.show()"
      ]
    },
    {
      "cell_type": "markdown",
      "id": "370d46e2",
      "metadata": {},
      "source": [
        "- Sebagian besar karyawan yang pindah memiliki tingkat pendidikan 1 dan 2.\n",
        "- Data memiliki outliers"
      ]
    },
    {
      "cell_type": "code",
      "execution_count": 57,
      "id": "c22bba2a",
      "metadata": {},
      "outputs": [
        {
          "data": {
            "image/png": "[encoded data removed]",
            "text/plain": [
              "<Figure size 864x288 with 2 Axes>"
            ]
          },
          "metadata": {
            "needs_background": "light"
          },
          "output_type": "display_data"
        }
      ],
      "source": [
        "# Distribusi dari overtime_hour\n",
        "f = plt.figure(figsize=(12,4))\n",
        "f.add_subplot(1,2,1)\n",
        "churn_0['overtime_hour'].plot(kind='kde')\n",
        "f.add_subplot(1,2,2)\n",
        "plt.boxplot(churn_0['overtime_hour'])\n",
        "plt.show()"
      ]
    },
    {
      "cell_type": "markdown",
      "id": "c740e886",
      "metadata": {},
      "source": [
        "- Density dari distribusi lama waktu lembur rata-rata (dalam jam) karyawan yang tidak pindah berada di angka 3 jam an.\n",
        "- Data memiliki outliers."
      ]
    },
    {
      "cell_type": "code",
      "execution_count": 58,
      "id": "ba5f2801",
      "metadata": {},
      "outputs": [
        {
          "name": "stderr",
          "output_type": "stream",
          "text": [
            "C:\\Users\\Nanda\\AppData\\Roaming\\Python\\Python310\\site-packages\\seaborn\\_decorators.py:36: FutureWarning: Pass the following variable as a keyword arg: x. From version 0.12, the only valid positional argument will be `data`, and passing other arguments without an explicit keyword will result in an error or misinterpretation.\n",
            "  warnings.warn(\n"
          ]
        },
        {
          "data": {
            "image/png": "[encoded data removed]",
            "text/plain": [
              "<Figure size 864x288 with 2 Axes>"
            ]
          },
          "metadata": {
            "needs_background": "light"
          },
          "output_type": "display_data"
        }
      ],
      "source": [
        "# Distribusi dari gender\n",
        "f = plt.figure(figsize=(12,4))\n",
        "f.add_subplot(1,2,1)\n",
        "sns.countplot(churn_0['gender'])\n",
        "f.add_subplot(1,2,2)\n",
        "plt.boxplot(churn_0['gender'])\n",
        "plt.show()"
      ]
    },
    {
      "cell_type": "markdown",
      "id": "b8d9e025",
      "metadata": {},
      "source": [
        "- Karyawan memiliki gender yang sebanding nilainya.\n",
        "- Data tidak memiliki outliers"
      ]
    },
    {
      "cell_type": "code",
      "execution_count": 59,
      "id": "df42a248",
      "metadata": {},
      "outputs": [
        {
          "name": "stderr",
          "output_type": "stream",
          "text": [
            "C:\\Users\\Nanda\\AppData\\Roaming\\Python\\Python310\\site-packages\\seaborn\\axisgrid.py:2076: UserWarning: The `size` parameter has been renamed to `height`; please update your code.\n",
            "  warnings.warn(msg, UserWarning)\n"
          ]
        },
        {
          "data": {
            "text/plain": [
              "<Figure size 864x288 with 0 Axes>"
            ]
          },
          "metadata": {},
          "output_type": "display_data"
        },
        {
          "data": {
            "image/png": "[encoded data removed]",
            "text/plain": [
              "<Figure size 1620x360 with 6 Axes>"
            ]
          },
          "metadata": {
            "needs_background": "light"
          },
          "output_type": "display_data"
        }
      ],
      "source": [
        "# Hubungan antara independent dan dependent variabel\n",
        "plt.figure(figsize=(12, 4))\n",
        "sns.pairplot(data=df, x_vars=['office_distance_from_house', 'bonus_salary_percentage', 'job_satisfaction', 'education_level', 'overtime_hour', 'gender'], y_vars=['churn'], size=5, aspect=0.75)\n",
        "plt.show()"
      ]
    },
    {
      "cell_type": "code",
      "execution_count": 60,
      "id": "8c1a9cf9",
      "metadata": {},
      "outputs": [
        {
          "name": "stderr",
          "output_type": "stream",
          "text": [
            "C:\\Users\\Nanda\\AppData\\Local\\Temp\\ipykernel_10736\\3180104771.py:2: FutureWarning: this method is deprecated in favour of `Styler.format(precision=..)`\n",
            "  df.corr().style.background_gradient().set_precision(2)\n"
          ]
        },
        {
          "data": {
            "text/html": [
              "<style type=\"text/css\">\n",
              "#T_f8202_row0_col0, #T_f8202_row1_col1, #T_f8202_row2_col2, #T_f8202_row3_col3, #T_f8202_row4_col4, #T_f8202_row5_col5, #T_f8202_row6_col6 {\n",
              "  background-color: #023858;\n",
              "  color: #f1f1f1;\n",
              "}\n",
              "#T_f8202_row0_col1 {\n",
              "  background-color: #c5cce3;\n",
              "  color: #000000;\n",
              "}\n",
              "#T_f8202_row0_col2 {\n",
              "  background-color: #cdd0e5;\n",
              "  color: #000000;\n",
              "}\n",
              "#T_f8202_row0_col3, #T_f8202_row1_col5, #T_f8202_row2_col4, #T_f8202_row2_col6, #T_f8202_row3_col0, #T_f8202_row6_col1, #T_f8202_row6_col2 {\n",
              "  background-color: #fff7fb;\n",
              "  color: #000000;\n",
              "}\n",
              "#T_f8202_row0_col4 {\n",
              "  background-color: #c0c9e2;\n",
              "  color: #000000;\n",
              "}\n",
              "#T_f8202_row0_col5, #T_f8202_row2_col5 {\n",
              "  background-color: #fef6fa;\n",
              "  color: #000000;\n",
              "}\n",
              "#T_f8202_row0_col6 {\n",
              "  background-color: #6fa7ce;\n",
              "  color: #f1f1f1;\n",
              "}\n",
              "#T_f8202_row1_col0 {\n",
              "  background-color: #e0deed;\n",
              "  color: #000000;\n",
              "}\n",
              "#T_f8202_row1_col2 {\n",
              "  background-color: #8cb3d5;\n",
              "  color: #000000;\n",
              "}\n",
              "#T_f8202_row1_col3 {\n",
              "  background-color: #e6e2ef;\n",
              "  color: #000000;\n",
              "}\n",
              "#T_f8202_row1_col4, #T_f8202_row4_col1 {\n",
              "  background-color: #a2bcda;\n",
              "  color: #000000;\n",
              "}\n",
              "#T_f8202_row1_col6, #T_f8202_row3_col5, #T_f8202_row6_col5 {\n",
              "  background-color: #f9f2f8;\n",
              "  color: #000000;\n",
              "}\n",
              "#T_f8202_row2_col0 {\n",
              "  background-color: #eee9f3;\n",
              "  color: #000000;\n",
              "}\n",
              "#T_f8202_row2_col1, #T_f8202_row6_col0 {\n",
              "  background-color: #96b6d7;\n",
              "  color: #000000;\n",
              "}\n",
              "#T_f8202_row2_col3 {\n",
              "  background-color: #c1cae2;\n",
              "  color: #000000;\n",
              "}\n",
              "#T_f8202_row3_col1 {\n",
              "  background-color: #cccfe5;\n",
              "  color: #000000;\n",
              "}\n",
              "#T_f8202_row3_col2 {\n",
              "  background-color: #97b7d7;\n",
              "  color: #000000;\n",
              "}\n",
              "#T_f8202_row3_col4 {\n",
              "  background-color: #bbc7e0;\n",
              "  color: #000000;\n",
              "}\n",
              "#T_f8202_row3_col6, #T_f8202_row5_col3 {\n",
              "  background-color: #d7d6e9;\n",
              "  color: #000000;\n",
              "}\n",
              "#T_f8202_row4_col0 {\n",
              "  background-color: #dbdaeb;\n",
              "  color: #000000;\n",
              "}\n",
              "#T_f8202_row4_col2 {\n",
              "  background-color: #f8f1f8;\n",
              "  color: #000000;\n",
              "}\n",
              "#T_f8202_row4_col3 {\n",
              "  background-color: #d8d7e9;\n",
              "  color: #000000;\n",
              "}\n",
              "#T_f8202_row4_col5 {\n",
              "  background-color: #faf3f9;\n",
              "  color: #000000;\n",
              "}\n",
              "#T_f8202_row4_col6 {\n",
              "  background-color: #b3c3de;\n",
              "  color: #000000;\n",
              "}\n",
              "#T_f8202_row5_col0 {\n",
              "  background-color: #dddbec;\n",
              "  color: #000000;\n",
              "}\n",
              "#T_f8202_row5_col1 {\n",
              "  background-color: #c2cbe2;\n",
              "  color: #000000;\n",
              "}\n",
              "#T_f8202_row5_col2 {\n",
              "  background-color: #b7c5df;\n",
              "  color: #000000;\n",
              "}\n",
              "#T_f8202_row5_col4 {\n",
              "  background-color: #bcc7e1;\n",
              "  color: #000000;\n",
              "}\n",
              "#T_f8202_row5_col6 {\n",
              "  background-color: #afc1dd;\n",
              "  color: #000000;\n",
              "}\n",
              "#T_f8202_row6_col3 {\n",
              "  background-color: #f5eff6;\n",
              "  color: #000000;\n",
              "}\n",
              "#T_f8202_row6_col4 {\n",
              "  background-color: #bdc8e1;\n",
              "  color: #000000;\n",
              "}\n",
              "</style>\n",
              "<table id=\"T_f8202\">\n",
              "  <thead>\n",
              "    <tr>\n",
              "      <th class=\"blank level0\" >&nbsp;</th>\n",
              "      <th id=\"T_f8202_level0_col0\" class=\"col_heading level0 col0\" >office_distance_from_house</th>\n",
              "      <th id=\"T_f8202_level0_col1\" class=\"col_heading level0 col1\" >bonus_salary_percentage</th>\n",
              "      <th id=\"T_f8202_level0_col2\" class=\"col_heading level0 col2\" >job_satisfaction</th>\n",
              "      <th id=\"T_f8202_level0_col3\" class=\"col_heading level0 col3\" >education_level</th>\n",
              "      <th id=\"T_f8202_level0_col4\" class=\"col_heading level0 col4\" >overtime_hour</th>\n",
              "      <th id=\"T_f8202_level0_col5\" class=\"col_heading level0 col5\" >gender</th>\n",
              "      <th id=\"T_f8202_level0_col6\" class=\"col_heading level0 col6\" >churn</th>\n",
              "    </tr>\n",
              "  </thead>\n",
              "  <tbody>\n",
              "    <tr>\n",
              "      <th id=\"T_f8202_level0_row0\" class=\"row_heading level0 row0\" >office_distance_from_house</th>\n",
              "      <td id=\"T_f8202_row0_col0\" class=\"data row0 col0\" >1.00</td>\n",
              "      <td id=\"T_f8202_row0_col1\" class=\"data row0 col1\" >-0.05</td>\n",
              "      <td id=\"T_f8202_row0_col2\" class=\"data row0 col2\" >-0.13</td>\n",
              "      <td id=\"T_f8202_row0_col3\" class=\"data row0 col3\" >-0.27</td>\n",
              "      <td id=\"T_f8202_row0_col4\" class=\"data row0 col4\" >-0.02</td>\n",
              "      <td id=\"T_f8202_row0_col5\" class=\"data row0 col5\" >-0.03</td>\n",
              "      <td id=\"T_f8202_row0_col6\" class=\"data row0 col6\" >0.26</td>\n",
              "    </tr>\n",
              "    <tr>\n",
              "      <th id=\"T_f8202_level0_row1\" class=\"row_heading level0 row1\" >bonus_salary_percentage</th>\n",
              "      <td id=\"T_f8202_row1_col0\" class=\"data row1 col0\" >-0.05</td>\n",
              "      <td id=\"T_f8202_row1_col1\" class=\"data row1 col1\" >1.00</td>\n",
              "      <td id=\"T_f8202_row1_col2\" class=\"data row1 col2\" >0.15</td>\n",
              "      <td id=\"T_f8202_row1_col3\" class=\"data row1 col3\" >-0.08</td>\n",
              "      <td id=\"T_f8202_row1_col4\" class=\"data row1 col4\" >0.10</td>\n",
              "      <td id=\"T_f8202_row1_col5\" class=\"data row1 col5\" >-0.04</td>\n",
              "      <td id=\"T_f8202_row1_col6\" class=\"data row1 col6\" >-0.46</td>\n",
              "    </tr>\n",
              "    <tr>\n",
              "      <th id=\"T_f8202_level0_row2\" class=\"row_heading level0 row2\" >job_satisfaction</th>\n",
              "      <td id=\"T_f8202_row2_col0\" class=\"data row2 col0\" >-0.13</td>\n",
              "      <td id=\"T_f8202_row2_col1\" class=\"data row2 col1\" >0.15</td>\n",
              "      <td id=\"T_f8202_row2_col2\" class=\"data row2 col2\" >1.00</td>\n",
              "      <td id=\"T_f8202_row2_col3\" class=\"data row2 col3\" >0.11</td>\n",
              "      <td id=\"T_f8202_row2_col4\" class=\"data row2 col4\" >-0.45</td>\n",
              "      <td id=\"T_f8202_row2_col5\" class=\"data row2 col5\" >-0.03</td>\n",
              "      <td id=\"T_f8202_row2_col6\" class=\"data row2 col6\" >-0.52</td>\n",
              "    </tr>\n",
              "    <tr>\n",
              "      <th id=\"T_f8202_level0_row3\" class=\"row_heading level0 row3\" >education_level</th>\n",
              "      <td id=\"T_f8202_row3_col0\" class=\"data row3 col0\" >-0.27</td>\n",
              "      <td id=\"T_f8202_row3_col1\" class=\"data row3 col1\" >-0.08</td>\n",
              "      <td id=\"T_f8202_row3_col2\" class=\"data row3 col2\" >0.11</td>\n",
              "      <td id=\"T_f8202_row3_col3\" class=\"data row3 col3\" >1.00</td>\n",
              "      <td id=\"T_f8202_row3_col4\" class=\"data row3 col4\" >0.01</td>\n",
              "      <td id=\"T_f8202_row3_col5\" class=\"data row3 col5\" >0.01</td>\n",
              "      <td id=\"T_f8202_row3_col6\" class=\"data row3 col6\" >-0.19</td>\n",
              "    </tr>\n",
              "    <tr>\n",
              "      <th id=\"T_f8202_level0_row4\" class=\"row_heading level0 row4\" >overtime_hour</th>\n",
              "      <td id=\"T_f8202_row4_col0\" class=\"data row4 col0\" >-0.02</td>\n",
              "      <td id=\"T_f8202_row4_col1\" class=\"data row4 col1\" >0.10</td>\n",
              "      <td id=\"T_f8202_row4_col2\" class=\"data row4 col2\" >-0.45</td>\n",
              "      <td id=\"T_f8202_row4_col3\" class=\"data row4 col3\" >0.01</td>\n",
              "      <td id=\"T_f8202_row4_col4\" class=\"data row4 col4\" >1.00</td>\n",
              "      <td id=\"T_f8202_row4_col5\" class=\"data row4 col5\" >-0.00</td>\n",
              "      <td id=\"T_f8202_row4_col6\" class=\"data row4 col6\" >-0.01</td>\n",
              "    </tr>\n",
              "    <tr>\n",
              "      <th id=\"T_f8202_level0_row5\" class=\"row_heading level0 row5\" >gender</th>\n",
              "      <td id=\"T_f8202_row5_col0\" class=\"data row5 col0\" >-0.03</td>\n",
              "      <td id=\"T_f8202_row5_col1\" class=\"data row5 col1\" >-0.04</td>\n",
              "      <td id=\"T_f8202_row5_col2\" class=\"data row5 col2\" >-0.03</td>\n",
              "      <td id=\"T_f8202_row5_col3\" class=\"data row5 col3\" >0.01</td>\n",
              "      <td id=\"T_f8202_row5_col4\" class=\"data row5 col4\" >-0.00</td>\n",
              "      <td id=\"T_f8202_row5_col5\" class=\"data row5 col5\" >1.00</td>\n",
              "      <td id=\"T_f8202_row5_col6\" class=\"data row5 col6\" >0.01</td>\n",
              "    </tr>\n",
              "    <tr>\n",
              "      <th id=\"T_f8202_level0_row6\" class=\"row_heading level0 row6\" >churn</th>\n",
              "      <td id=\"T_f8202_row6_col0\" class=\"data row6 col0\" >0.26</td>\n",
              "      <td id=\"T_f8202_row6_col1\" class=\"data row6 col1\" >-0.46</td>\n",
              "      <td id=\"T_f8202_row6_col2\" class=\"data row6 col2\" >-0.52</td>\n",
              "      <td id=\"T_f8202_row6_col3\" class=\"data row6 col3\" >-0.19</td>\n",
              "      <td id=\"T_f8202_row6_col4\" class=\"data row6 col4\" >-0.01</td>\n",
              "      <td id=\"T_f8202_row6_col5\" class=\"data row6 col5\" >0.01</td>\n",
              "      <td id=\"T_f8202_row6_col6\" class=\"data row6 col6\" >1.00</td>\n",
              "    </tr>\n",
              "  </tbody>\n",
              "</table>\n"
            ],
            "text/plain": [
              "<pandas.io.formats.style.Styler at 0x1ce9e0c1cf0>"
            ]
          },
          "execution_count": 60,
          "metadata": {},
          "output_type": "execute_result"
        }
      ],
      "source": [
        "# Tabel korelasi dari independent dan dependent variabel\n",
        "df.corr().style.background_gradient().set_precision(2)"
      ]
    },
    {
      "cell_type": "markdown",
      "id": "b4d653fa",
      "metadata": {},
      "source": [
        "- Nilai korelasi gender hampir mendekati nol yang menandakan bahwa gender tidak mempengaruhi perpindahan karyawan."
      ]
    },
    {
      "cell_type": "markdown",
      "id": "5f720ca9",
      "metadata": {},
      "source": [
        "### **Modelling**"
      ]
    },
    {
      "cell_type": "code",
      "execution_count": 61,
      "id": "fda6fa4b",
      "metadata": {
        "colab": {
          "base_uri": "https://localhost:8080/",
          "height": 424
        },
        "id": "fda6fa4b",
        "outputId": "486d201f-b60c-4e9c-a421-b499122dee6c"
      },
      "outputs": [
        {
          "data": {
            "text/html": [
              "<div>\n",
              "<style scoped>\n",
              "    .dataframe tbody tr th:only-of-type {\n",
              "        vertical-align: middle;\n",
              "    }\n",
              "\n",
              "    .dataframe tbody tr th {\n",
              "        vertical-align: top;\n",
              "    }\n",
              "\n",
              "    .dataframe thead th {\n",
              "        text-align: right;\n",
              "    }\n",
              "</style>\n",
              "<table border=\"1\" class=\"dataframe\">\n",
              "  <thead>\n",
              "    <tr style=\"text-align: right;\">\n",
              "      <th></th>\n",
              "      <th>office_distance_from_house</th>\n",
              "      <th>bonus_salary_percentage</th>\n",
              "      <th>job_satisfaction</th>\n",
              "      <th>education_level</th>\n",
              "      <th>overtime_hour</th>\n",
              "      <th>gender</th>\n",
              "      <th>churn</th>\n",
              "    </tr>\n",
              "  </thead>\n",
              "  <tbody>\n",
              "    <tr>\n",
              "      <th>0</th>\n",
              "      <td>8511.0</td>\n",
              "      <td>42.51</td>\n",
              "      <td>1.0</td>\n",
              "      <td>1.0</td>\n",
              "      <td>3.416556</td>\n",
              "      <td>0</td>\n",
              "      <td>0</td>\n",
              "    </tr>\n",
              "    <tr>\n",
              "      <th>1</th>\n",
              "      <td>10090.0</td>\n",
              "      <td>57.48</td>\n",
              "      <td>2.0</td>\n",
              "      <td>1.0</td>\n",
              "      <td>2.897149</td>\n",
              "      <td>0</td>\n",
              "      <td>0</td>\n",
              "    </tr>\n",
              "    <tr>\n",
              "      <th>2</th>\n",
              "      <td>18652.0</td>\n",
              "      <td>41.22</td>\n",
              "      <td>2.0</td>\n",
              "      <td>1.0</td>\n",
              "      <td>3.180264</td>\n",
              "      <td>1</td>\n",
              "      <td>1</td>\n",
              "    </tr>\n",
              "    <tr>\n",
              "      <th>3</th>\n",
              "      <td>13392.0</td>\n",
              "      <td>63.57</td>\n",
              "      <td>3.0</td>\n",
              "      <td>1.0</td>\n",
              "      <td>3.429648</td>\n",
              "      <td>0</td>\n",
              "      <td>0</td>\n",
              "    </tr>\n",
              "    <tr>\n",
              "      <th>4</th>\n",
              "      <td>13356.0</td>\n",
              "      <td>46.16</td>\n",
              "      <td>2.0</td>\n",
              "      <td>1.0</td>\n",
              "      <td>3.812226</td>\n",
              "      <td>1</td>\n",
              "      <td>1</td>\n",
              "    </tr>\n",
              "    <tr>\n",
              "      <th>...</th>\n",
              "      <td>...</td>\n",
              "      <td>...</td>\n",
              "      <td>...</td>\n",
              "      <td>...</td>\n",
              "      <td>...</td>\n",
              "      <td>...</td>\n",
              "      <td>...</td>\n",
              "    </tr>\n",
              "    <tr>\n",
              "      <th>1028</th>\n",
              "      <td>12972.0</td>\n",
              "      <td>73.90</td>\n",
              "      <td>2.0</td>\n",
              "      <td>1.0</td>\n",
              "      <td>2.661765</td>\n",
              "      <td>0</td>\n",
              "      <td>0</td>\n",
              "    </tr>\n",
              "    <tr>\n",
              "      <th>1029</th>\n",
              "      <td>7881.0</td>\n",
              "      <td>37.09</td>\n",
              "      <td>2.0</td>\n",
              "      <td>2.0</td>\n",
              "      <td>2.518952</td>\n",
              "      <td>0</td>\n",
              "      <td>1</td>\n",
              "    </tr>\n",
              "    <tr>\n",
              "      <th>1030</th>\n",
              "      <td>12003.0</td>\n",
              "      <td>66.86</td>\n",
              "      <td>1.0</td>\n",
              "      <td>2.0</td>\n",
              "      <td>4.882591</td>\n",
              "      <td>0</td>\n",
              "      <td>0</td>\n",
              "    </tr>\n",
              "    <tr>\n",
              "      <th>1031</th>\n",
              "      <td>9843.0</td>\n",
              "      <td>52.03</td>\n",
              "      <td>2.0</td>\n",
              "      <td>2.0</td>\n",
              "      <td>3.829853</td>\n",
              "      <td>0</td>\n",
              "      <td>0</td>\n",
              "    </tr>\n",
              "    <tr>\n",
              "      <th>1032</th>\n",
              "      <td>16330.0</td>\n",
              "      <td>54.31</td>\n",
              "      <td>3.0</td>\n",
              "      <td>1.0</td>\n",
              "      <td>4.102752</td>\n",
              "      <td>1</td>\n",
              "      <td>0</td>\n",
              "    </tr>\n",
              "  </tbody>\n",
              "</table>\n",
              "<p>1033 rows × 7 columns</p>\n",
              "</div>"
            ],
            "text/plain": [
              "      office_distance_from_house  bonus_salary_percentage  job_satisfaction  \\\n",
              "0                         8511.0                    42.51               1.0   \n",
              "1                        10090.0                    57.48               2.0   \n",
              "2                        18652.0                    41.22               2.0   \n",
              "3                        13392.0                    63.57               3.0   \n",
              "4                        13356.0                    46.16               2.0   \n",
              "...                          ...                      ...               ...   \n",
              "1028                     12972.0                    73.90               2.0   \n",
              "1029                      7881.0                    37.09               2.0   \n",
              "1030                     12003.0                    66.86               1.0   \n",
              "1031                      9843.0                    52.03               2.0   \n",
              "1032                     16330.0                    54.31               3.0   \n",
              "\n",
              "      education_level  overtime_hour  gender  churn  \n",
              "0                 1.0       3.416556       0      0  \n",
              "1                 1.0       2.897149       0      0  \n",
              "2                 1.0       3.180264       1      1  \n",
              "3                 1.0       3.429648       0      0  \n",
              "4                 1.0       3.812226       1      1  \n",
              "...               ...            ...     ...    ...  \n",
              "1028              1.0       2.661765       0      0  \n",
              "1029              2.0       2.518952       0      1  \n",
              "1030              2.0       4.882591       0      0  \n",
              "1031              2.0       3.829853       0      0  \n",
              "1032              1.0       4.102752       1      0  \n",
              "\n",
              "[1033 rows x 7 columns]"
            ]
          },
          "execution_count": 61,
          "metadata": {},
          "output_type": "execute_result"
        }
      ],
      "source": [
        "# Recall data\n",
        "df"
      ]
    },
    {
      "cell_type": "code",
      "execution_count": 62,
      "id": "3c0110f5",
      "metadata": {},
      "outputs": [
        {
          "name": "stdout",
          "output_type": "stream",
          "text": [
            "(826, 6)\n",
            "(826,)\n",
            "(207, 6)\n",
            "(207,)\n"
          ]
        }
      ],
      "source": [
        "# Variabel x dan y\n",
        "x = df.drop(columns='churn')\n",
        "y = df['churn']\n",
        "# Split data menjadi training and testing dengan porsi 80:20\n",
        "x_train, x_test, y_train, y_test = train_test_split(x, y, test_size=0.2, random_state=4)\n",
        "# Cek shape dari data training dan testing\n",
        "print(x_train.shape)\n",
        "print(y_train.shape)\n",
        "print(x_test.shape)\n",
        "print(y_test.shape)"
      ]
    },
    {
      "cell_type": "code",
      "execution_count": 63,
      "id": "4cf77ded",
      "metadata": {
        "colab": {
          "base_uri": "https://localhost:8080/",
          "height": 424
        },
        "id": "4cf77ded",
        "outputId": "095964f1-da52-4e4b-fea3-cd2715eaafff"
      },
      "outputs": [
        {
          "name": "stdout",
          "output_type": "stream",
          "text": [
            "m = [ 1.66875442e-05 -1.28133257e-02 -2.68932317e-01 -9.74966482e-02\n",
            " -1.39106639e-01 -8.98870690e-05]\n",
            "b = 2.0118463828758366\n"
          ]
        }
      ],
      "source": [
        "lin_reg = LinearRegression()\n",
        "# Train model menggunakan training data yang sudah displit\n",
        "lin_reg.fit(x_train, y_train)\n",
        "# Nilai slope/koefisien (m) dan intercept (b)\n",
        "print(\"m =\", lin_reg.coef_)\n",
        "print(\"b =\", lin_reg.intercept_)"
      ]
    },
    {
      "cell_type": "code",
      "execution_count": 64,
      "id": "3345632e",
      "metadata": {
        "colab": {
          "base_uri": "https://localhost:8080/",
          "height": 424
        },
        "id": "3345632e",
        "outputId": "b363406e-04fc-4401-ba1a-f5ef2c126a02"
      },
      "outputs": [
        {
          "data": {
            "text/html": [
              "<div>\n",
              "<style scoped>\n",
              "    .dataframe tbody tr th:only-of-type {\n",
              "        vertical-align: middle;\n",
              "    }\n",
              "\n",
              "    .dataframe tbody tr th {\n",
              "        vertical-align: top;\n",
              "    }\n",
              "\n",
              "    .dataframe thead th {\n",
              "        text-align: right;\n",
              "    }\n",
              "</style>\n",
              "<table border=\"1\" class=\"dataframe\">\n",
              "  <thead>\n",
              "    <tr style=\"text-align: right;\">\n",
              "      <th></th>\n",
              "      <th>features</th>\n",
              "      <th>coef_value</th>\n",
              "    </tr>\n",
              "  </thead>\n",
              "  <tbody>\n",
              "    <tr>\n",
              "      <th>0</th>\n",
              "      <td>office_distance_from_house</td>\n",
              "      <td>0.000017</td>\n",
              "    </tr>\n",
              "    <tr>\n",
              "      <th>1</th>\n",
              "      <td>bonus_salary_percentage</td>\n",
              "      <td>-0.012813</td>\n",
              "    </tr>\n",
              "    <tr>\n",
              "      <th>2</th>\n",
              "      <td>job_satisfaction</td>\n",
              "      <td>-0.268932</td>\n",
              "    </tr>\n",
              "    <tr>\n",
              "      <th>3</th>\n",
              "      <td>education_level</td>\n",
              "      <td>-0.097497</td>\n",
              "    </tr>\n",
              "    <tr>\n",
              "      <th>4</th>\n",
              "      <td>overtime_hour</td>\n",
              "      <td>-0.139107</td>\n",
              "    </tr>\n",
              "    <tr>\n",
              "      <th>5</th>\n",
              "      <td>gender</td>\n",
              "      <td>-0.000090</td>\n",
              "    </tr>\n",
              "  </tbody>\n",
              "</table>\n",
              "</div>"
            ],
            "text/plain": [
              "                     features  coef_value\n",
              "0  office_distance_from_house    0.000017\n",
              "1     bonus_salary_percentage   -0.012813\n",
              "2            job_satisfaction   -0.268932\n",
              "3             education_level   -0.097497\n",
              "4               overtime_hour   -0.139107\n",
              "5                      gender   -0.000090"
            ]
          },
          "execution_count": 64,
          "metadata": {},
          "output_type": "execute_result"
        }
      ],
      "source": [
        "coef_dict = {'features':x.columns, 'coef_value':lin_reg.coef_}\n",
        "coef = pd.DataFrame(coef_dict, columns=['features', 'coef_value'])\n",
        "coef"
      ]
    },
    {
      "cell_type": "markdown",
      "id": "30acf2b6",
      "metadata": {},
      "source": [
        "- Nilai slope/koefisien (m) = coef_value\n",
        "- Dari nilai m dan b, jika dimasukan ke dalam rumus menjadi:  \n",
        "Y = 0.000017x1 - 0.012813 - 0.268932x3 - 0.097497x4 - 0.139107x5 - 0.000090x6 + 2.0118463828758366"
      ]
    },
    {
      "cell_type": "code",
      "execution_count": 65,
      "id": "97c8a7cf",
      "metadata": {},
      "outputs": [
        {
          "data": {
            "text/plain": [
              "0.472030180963375"
            ]
          },
          "execution_count": 65,
          "metadata": {},
          "output_type": "execute_result"
        }
      ],
      "source": [
        "y_pred = lin_reg.predict(x_test)\n",
        "# Accuracy score model menggunakan testing data yang sudah displit\n",
        "lin_reg.score(x_test, y_test)"
      ]
    },
    {
      "cell_type": "markdown",
      "id": "a69274a2",
      "metadata": {},
      "source": [
        "- Model mendapatkan accuracy score sebesar 47.2%"
      ]
    },
    {
      "cell_type": "markdown",
      "id": "384bc3ba",
      "metadata": {},
      "source": [
        "### **Prediction**"
      ]
    },
    {
      "attachments": {},
      "cell_type": "markdown",
      "id": "bcd4baf5",
      "metadata": {},
      "source": [
        "*Apabila x < 0.5 maka karyawan diprediksi tidak akan pindah, apabila x > 0.5 maka karyawan diprediksi akan pindah."
      ]
    },
    {
      "attachments": {},
      "cell_type": "markdown",
      "id": "a92973f2",
      "metadata": {},
      "source": [
        "Memprediksi apakah karyawan akan pindah atau tidak (berdasarkan data karyawan yang pindah) sesuai dengan kriteria berikut:  \n",
        "1. Jarak (dalam meter) kantor ke rumah karyawan = 12000\n",
        "2. Persentase bonus gaji yang diterima karyawan dalam 6 bulan terakhir = 42\n",
        "3. Tingkat kepuasan kerja karyawan = 2\n",
        "4. Tingkat pendidikan karyawan = 1\n",
        "5. Lama waktu lembur rata-rata (dalam jam) = 3\n",
        "6. Gender; apabila 0, berarti perempuan, apabila 1, berarti laki-laki = 1\n",
        "\n",
        "*Apabila 0 < x < 0.5 maka karyawan diprediksi tidak akan pindah, apabila 0.5 < x < 1 maka karyawan diprediksi akan pindah."
      ]
    },
    {
      "cell_type": "code",
      "execution_count": 66,
      "id": "0a921f88",
      "metadata": {
        "colab": {
          "base_uri": "https://localhost:8080/",
          "height": 424
        },
        "id": "0a921f88",
        "outputId": "c876ad8e-396f-42d2-eed5-64fd13f86fcb"
      },
      "outputs": [
        {
          "name": "stderr",
          "output_type": "stream",
          "text": [
            "C:\\Users\\Nanda\\AppData\\Roaming\\Python\\Python310\\site-packages\\sklearn\\base.py:450: UserWarning: X does not have valid feature names, but LinearRegression was fitted with feature names\n",
            "  warnings.warn(\n"
          ]
        },
        {
          "data": {
            "text/plain": [
              "array([0.62116615])"
            ]
          },
          "execution_count": 66,
          "metadata": {},
          "output_type": "execute_result"
        }
      ],
      "source": [
        "# Prediksi karyawan pindah\n",
        "lin_reg.predict([[12000,42,2,1,3,1]])"
      ]
    },
    {
      "cell_type": "markdown",
      "id": "4827151c",
      "metadata": {},
      "source": [
        "- Hasilnya adalah 0.62116615 yang berarti karyawan tersebut diprediksi akan pindah."
      ]
    },
    {
      "attachments": {},
      "cell_type": "markdown",
      "id": "a92973f2",
      "metadata": {},
      "source": [
        "Memprediksi apakah karyawan akan pindah atau tidak (berdasarkan data karyawan yang tidak pindah) sesuai dengan kriteria berikut:  \n",
        "1. Jarak (dalam meter) kantor ke rumah karyawan = 10000\n",
        "2. Persentase bonus gaji yang diterima karyawan dalam 6 bulan terakhir = 55\n",
        "3. Tingkat kepuasan kerja karyawan = 2\n",
        "4. Tingkat pendidikan karyawan = 2\n",
        "5. Lama waktu lembur rata-rata (dalam jam) = 3\n",
        "6. Gender; apabila 0, berarti perempuan, apabila 1, berarti laki-laki = 0"
      ]
    },
    {
      "cell_type": "code",
      "execution_count": 67,
      "id": "0a921f88",
      "metadata": {
        "colab": {
          "base_uri": "https://localhost:8080/",
          "height": 424
        },
        "id": "0a921f88",
        "outputId": "c876ad8e-396f-42d2-eed5-64fd13f86fcb"
      },
      "outputs": [
        {
          "name": "stderr",
          "output_type": "stream",
          "text": [
            "C:\\Users\\Nanda\\AppData\\Roaming\\Python\\Python310\\site-packages\\sklearn\\base.py:450: UserWarning: X does not have valid feature names, but LinearRegression was fitted with feature names\n",
            "  warnings.warn(\n"
          ]
        },
        {
          "data": {
            "text/plain": [
              "array([0.32381106])"
            ]
          },
          "execution_count": 67,
          "metadata": {},
          "output_type": "execute_result"
        }
      ],
      "source": [
        "# Prediksi karyawan pindah\n",
        "lin_reg.predict([[10000,55,2,2,3,0]])"
      ]
    },
    {
      "cell_type": "markdown",
      "id": "6882645c",
      "metadata": {},
      "source": [
        "- Hasilnya adalah 0.32381106 yang berarti karyawan tersebut diprediksi tidak akan pindah."
      ]
    },
    {
      "cell_type": "markdown",
      "id": "e9c498a5",
      "metadata": {},
      "source": [
        "Berikut ini adalah code untuk penginputan oleh user:"
      ]
    },
    {
      "cell_type": "code",
      "execution_count": 68,
      "id": "0aed5732",
      "metadata": {},
      "outputs": [
        {
          "name": "stdout",
          "output_type": "stream",
          "text": [
            "===============================================\n",
            "Prediksi Apakah Karyawan Akan Pindah atau Tidak\n",
            "===============================================\n",
            "-----------------------------------------------\n"
          ]
        },
        {
          "name": "stderr",
          "output_type": "stream",
          "text": [
            "C:\\Users\\Nanda\\AppData\\Roaming\\Python\\Python310\\site-packages\\sklearn\\base.py:450: UserWarning: X does not have valid feature names, but LinearRegression was fitted with feature names\n",
            "  warnings.warn(\n"
          ]
        },
        {
          "name": "stdout",
          "output_type": "stream",
          "text": [
            "Jarak (dalam meter) kantor ke rumah karyawan = 13000.0\n",
            "Persentase bonus gaji yang diterima karyawan dalam 6 bulan terakhir = 23.0\n",
            "Tingkat kepuasan kerja karyawan = 4.0\n",
            "Tingkat pendidikan karyawan = 3.0\n",
            "Lama waktu lembur rata-rata (dalam jam) = 3.0\n",
            "Gender; apabila 0, berarti perempuan, apabila 1, berarti laki-laki = 0.0\n",
            ">>> Hasilnya adalah [0.14853883] yang berarti karyawan tersebut diprediksi tidak akan pindah.\n",
            "-----------------------------------------------\n"
          ]
        },
        {
          "name": "stderr",
          "output_type": "stream",
          "text": [
            "C:\\Users\\Nanda\\AppData\\Roaming\\Python\\Python310\\site-packages\\sklearn\\base.py:450: UserWarning: X does not have valid feature names, but LinearRegression was fitted with feature names\n",
            "  warnings.warn(\n"
          ]
        },
        {
          "name": "stdout",
          "output_type": "stream",
          "text": [
            "Jarak (dalam meter) kantor ke rumah karyawan = 2000.0\n",
            "Persentase bonus gaji yang diterima karyawan dalam 6 bulan terakhir = 34.0\n",
            "Tingkat kepuasan kerja karyawan = 2.0\n",
            "Tingkat pendidikan karyawan = 1.0\n",
            "Lama waktu lembur rata-rata (dalam jam) = 3.0\n",
            "Gender; apabila 0, berarti perempuan, apabila 1, berarti laki-laki = 1.0\n",
            ">>> Hasilnya adalah [0.55679731] yang berarti karyawan tersebut diprediksi akan pindah.\n",
            "-----------------------------------------------\n",
            "Prediksi telah selesai.\n"
          ]
        }
      ],
      "source": [
        "print(\"=\"*47)\n",
        "print(\"Prediksi Apakah Karyawan Akan Pindah atau Tidak\")\n",
        "print(\"=\"*47)\n",
        "s = \"y\"\n",
        "while s == \"y\":\n",
        "    print(\"-\"*47)\n",
        "    a = float(input(\"Jarak (dalam meter) kantor ke rumah karyawan =\"))\n",
        "    b = float(input(\"Persentase bonus gaji yang diterima karyawan dalam 6 bulan terakhir =\"))\n",
        "    c = float(input(\"Tingkat kepuasan kerja karyawan =\"))\n",
        "    d = float(input(\"Tingkat pendidikan karyawan =\"))\n",
        "    e = float(input(\"Lama waktu lembur rata-rata (dalam jam) =\"))\n",
        "    f = float(input(\"Gender; apabila 0, berarti perempuan, apabila 1, berarti laki-laki =\"))\n",
        "    x = lin_reg.predict([[a,b,c,d,e,f]])\n",
        "    print(\"Jarak (dalam meter) kantor ke rumah karyawan =\", a)\n",
        "    print(\"Persentase bonus gaji yang diterima karyawan dalam 6 bulan terakhir =\", b)\n",
        "    print(\"Tingkat kepuasan kerja karyawan =\", c)\n",
        "    print(\"Tingkat pendidikan karyawan =\", d)\n",
        "    print(\"Lama waktu lembur rata-rata (dalam jam) =\", e)\n",
        "    print(\"Gender; apabila 0, berarti perempuan, apabila 1, berarti laki-laki =\", f)\n",
        "    if x < 0.5:\n",
        "        print(\">>> Hasilnya adalah\", x, \"yang berarti karyawan tersebut diprediksi tidak akan pindah.\")\n",
        "    else:\n",
        "        print(\">>> Hasilnya adalah\", x, \"yang berarti karyawan tersebut diprediksi akan pindah.\")\n",
        "    s = input(\"Apakah anda ingin memprediksi lagi (y/t): \")\n",
        "if s == \"t\":\n",
        "    print(\"-\"*47)\n",
        "    print(\"Prediksi telah selesai.\")"
      ]
    },
    {
      "cell_type": "code",
      "execution_count": 69,
      "id": "1e54d6cc",
      "metadata": {},
      "outputs": [
        {
          "name": "stderr",
          "output_type": "stream",
          "text": [
            "[NbConvertApp] Converting notebook LinearRegression_EmployeePrediction.ipynb to html\n",
            "[NbConvertApp] WARNING | Non-unique cell id 'a92973f2' detected. Corrected to 'c678fcd5'.\n",
            "[NbConvertApp] WARNING | Non-unique cell id '0a921f88' detected. Corrected to '3eb00d62'.\n",
            "[NbConvertApp] Writing 901955 bytes to LinearRegression_EmployeePrediction.html\n"
          ]
        }
      ],
      "source": [
        "!jupyter nbconvert --to html LinearRegression_EmployeePrediction.ipynb"
      ]
    }
  ],
  "metadata": {
    "colab": {
      "collapsed_sections": [],
      "name": "ShineCom_Studi Kasus Employee Churn .ipynb",
      "provenance": []
    },
    "kernelspec": {
      "display_name": "Python 3 (ipykernel)",
      "language": "python",
      "name": "python3"
    },
    "language_info": {
      "codemirror_mode": {
        "name": "ipython",
        "version": 3
      },
      "file_extension": ".py",
      "mimetype": "text/x-python",
      "name": "python",
      "nbconvert_exporter": "python",
      "pygments_lexer": "ipython3",
      "version": "3.10.4"
    },
    "vscode": {
      "interpreter": {
        "hash": "26de051ba29f2982a8de78e945f0abaf191376122a1563185a90213a26c5da77"
      }
    }
  },
  "nbformat": 4,
  "nbformat_minor": 5
}
